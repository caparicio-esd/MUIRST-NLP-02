{
 "cells": [
  {
   "cell_type": "code",
   "execution_count": 97,
   "metadata": {},
   "outputs": [],
   "source": [
    "import pandas as pd\n",
    "import numpy as np\n",
    "from sklearn import metrics\n",
    "from sklearn.pipeline import Pipeline\n",
    "from sklearn.compose import ColumnTransformer\n",
    "from sklearn.preprocessing import FunctionTransformer\n",
    "from sklearn.feature_extraction.text import TfidfVectorizer\n",
    "import re\n",
    "import nltk\n",
    "import pandas as pd\n",
    "from sklearn.model_selection import GridSearchCV, train_test_split\n",
    "from sklearn.svm import SVC\n",
    "import re\n",
    "import string\n",
    "import unicodedata\n",
    "import nltk\n",
    "from nltk.stem import PorterStemmer\n",
    "from nltk.stem import WordNetLemmatizer\n",
    "from nltk.corpus import stopwords\n",
    "from emoji import demojize\n",
    "from sklearn.base import BaseEstimator, TransformerMixin"
   ]
  },
  {
   "cell_type": "code",
   "execution_count": 98,
   "metadata": {},
   "outputs": [],
   "source": [
    "df = pd.read_csv(\"./../data/train.csv\")"
   ]
  },
  {
   "attachments": {},
   "cell_type": "markdown",
   "metadata": {},
   "source": [
    "### Resampling"
   ]
  },
  {
   "cell_type": "code",
   "execution_count": 99,
   "metadata": {},
   "outputs": [
    {
     "data": {
      "text/html": [
       "<div>\n",
       "<style scoped>\n",
       "    .dataframe tbody tr th:only-of-type {\n",
       "        vertical-align: middle;\n",
       "    }\n",
       "\n",
       "    .dataframe tbody tr th {\n",
       "        vertical-align: top;\n",
       "    }\n",
       "\n",
       "    .dataframe thead th {\n",
       "        text-align: right;\n",
       "    }\n",
       "</style>\n",
       "<table border=\"1\" class=\"dataframe\">\n",
       "  <thead>\n",
       "    <tr style=\"text-align: right;\">\n",
       "      <th></th>\n",
       "      <th>label</th>\n",
       "      <th>text</th>\n",
       "      <th>id</th>\n",
       "    </tr>\n",
       "  </thead>\n",
       "  <tbody>\n",
       "    <tr>\n",
       "      <th>0</th>\n",
       "      <td>1</td>\n",
       "      <td>I have a choice to make. for me,being gay is w...</td>\n",
       "      <td>55f1c5ba676</td>\n",
       "    </tr>\n",
       "    <tr>\n",
       "      <th>1</th>\n",
       "      <td>1</td>\n",
       "      <td>..a skeleton mask can't hide your hate. SAD li...</td>\n",
       "      <td>06090b0fd44</td>\n",
       "    </tr>\n",
       "    <tr>\n",
       "      <th>2</th>\n",
       "      <td>1</td>\n",
       "      <td>If Germany wants them SO badly, send Lufthansa...</td>\n",
       "      <td>b02223874e7</td>\n",
       "    </tr>\n",
       "    <tr>\n",
       "      <th>3</th>\n",
       "      <td>1</td>\n",
       "      <td>Being a bigot is idiotic.</td>\n",
       "      <td>1b1a2400105</td>\n",
       "    </tr>\n",
       "    <tr>\n",
       "      <th>4</th>\n",
       "      <td>1</td>\n",
       "      <td>I guess we can thank the Labour party for all ...</td>\n",
       "      <td>8c814acc339</td>\n",
       "    </tr>\n",
       "    <tr>\n",
       "      <th>...</th>\n",
       "      <td>...</td>\n",
       "      <td>...</td>\n",
       "      <td>...</td>\n",
       "    </tr>\n",
       "    <tr>\n",
       "      <th>10339</th>\n",
       "      <td>0</td>\n",
       "      <td>Live and let live is my motto who the hell are...</td>\n",
       "      <td>1a92cab6b9a</td>\n",
       "    </tr>\n",
       "    <tr>\n",
       "      <th>10340</th>\n",
       "      <td>0</td>\n",
       "      <td>Any city centre retirement project would be a ...</td>\n",
       "      <td>e7e64a3b9a0</td>\n",
       "    </tr>\n",
       "    <tr>\n",
       "      <th>10341</th>\n",
       "      <td>0</td>\n",
       "      <td>Just pick em up and lock m up or better yet ma...</td>\n",
       "      <td>fc4576f34e3</td>\n",
       "    </tr>\n",
       "    <tr>\n",
       "      <th>10342</th>\n",
       "      <td>0</td>\n",
       "      <td>There is something fundamentally wrong with this</td>\n",
       "      <td>fde30735725</td>\n",
       "    </tr>\n",
       "    <tr>\n",
       "      <th>10343</th>\n",
       "      <td>0</td>\n",
       "      <td>Peter Sørensen Just a note on Peter's poor mat...</td>\n",
       "      <td>da703acd01e</td>\n",
       "    </tr>\n",
       "  </tbody>\n",
       "</table>\n",
       "<p>10344 rows × 3 columns</p>\n",
       "</div>"
      ],
      "text/plain": [
       "      label                                               text           id\n",
       "0         1  I have a choice to make. for me,being gay is w...  55f1c5ba676\n",
       "1         1  ..a skeleton mask can't hide your hate. SAD li...  06090b0fd44\n",
       "2         1  If Germany wants them SO badly, send Lufthansa...  b02223874e7\n",
       "3         1                          Being a bigot is idiotic.  1b1a2400105\n",
       "4         1  I guess we can thank the Labour party for all ...  8c814acc339\n",
       "...     ...                                                ...          ...\n",
       "10339     0  Live and let live is my motto who the hell are...  1a92cab6b9a\n",
       "10340     0  Any city centre retirement project would be a ...  e7e64a3b9a0\n",
       "10341     0  Just pick em up and lock m up or better yet ma...  fc4576f34e3\n",
       "10342     0   There is something fundamentally wrong with this  fde30735725\n",
       "10343     0  Peter Sørensen Just a note on Peter's poor mat...  da703acd01e\n",
       "\n",
       "[10344 rows x 3 columns]"
      ]
     },
     "execution_count": 99,
     "metadata": {},
     "output_type": "execute_result"
    }
   ],
   "source": [
    "from sklearn.utils import resample\n",
    "\n",
    "df_majority = df[df[\"label\"] == 1]\n",
    "df_minority = df[df[\"label\"] == 0]\n",
    "df_majority_downsampled = resample(df_majority, replace=True, n_samples=(len(df_minority)))\n",
    "df_train_resampled = np.concatenate((df_majority_downsampled, df_minority), axis=0)\n",
    "df_train_resampled = pd.DataFrame(df_train_resampled, columns=df.columns)\n",
    "\n",
    "df = df_train_resampled\n",
    "df"
   ]
  },
  {
   "attachments": {},
   "cell_type": "markdown",
   "metadata": {},
   "source": [
    "### Pipeline"
   ]
  },
  {
   "cell_type": "code",
   "execution_count": 100,
   "metadata": {},
   "outputs": [
    {
     "name": "stderr",
     "output_type": "stream",
     "text": [
      "[nltk_data] Downloading package wordnet to /Users/apabook/nltk_data...\n",
      "[nltk_data]   Package wordnet is already up-to-date!\n"
     ]
    }
   ],
   "source": [
    "nltk.download(\"wordnet\")\n",
    "stop = set(stopwords.words(\"english\"))\n",
    "stemmer = PorterStemmer()\n",
    "lemmatizer = WordNetLemmatizer()\n",
    "\n",
    "# split test-training\n",
    "X = df\n",
    "y = df[\"label\"].astype(\"int\")\n",
    "X_train, X_test, y_train, y_test = train_test_split(X, y, test_size=0.4)\n",
    "\n",
    "\n",
    "# preprocessing\n",
    "def lower_case(text: str) -> str:\n",
    "    \"\"\"\n",
    "    lower casing the whole text\n",
    "    \"\"\"\n",
    "    return text.lower()\n",
    "\n",
    "\n",
    "def stemming(text: str) -> str:\n",
    "    \"\"\"\n",
    "    stems text from PorterStemmer in nltk\n",
    "    \"\"\"\n",
    "    return \" \".join([stemmer.stem(word=word) for word in text.split(\" \")])\n",
    "\n",
    "\n",
    "def lemmatizing(text: str) -> str:\n",
    "    \"\"\"\n",
    "    lemmatizes text from WordNetLemmatizer in nltk\n",
    "    \"\"\"\n",
    "    return \" \".join(\n",
    "        [lemmatizer.lemmatize(word=word, pos=\"n\") for word in text.split(\" \")]\n",
    "    )\n",
    "\n",
    "\n",
    "def remove_stopwords(text: str) -> str:\n",
    "    \"\"\"\n",
    "    get rid of stopwords from english stopwords dict in nltk\n",
    "    \"\"\"\n",
    "    return \" \".join([word for word in text.split(\" \") if word not in stop])\n",
    "\n",
    "\n",
    "def noise_removal(text: str) -> str:\n",
    "    \"\"\"\n",
    "    get rid of repeated items, urls, html tags, ellipsis, ect...\n",
    "    \"\"\"\n",
    "    # text = re.sub(r'(\\w+) \\1', r'\\1', text)\n",
    "    text = re.sub(r\"http\\S+|www\\S+|https\\S+\", \"\", text)\n",
    "    text = re.sub(r\"\\.\\.\\.\", \" \", text)\n",
    "    text = re.sub(r\"\\\"\", \" \", text)\n",
    "    text = (\n",
    "        unicodedata.normalize(\"NFKD\", text)\n",
    "        .encode(\"ascii\", \"ignore\")\n",
    "        .decode(\"utf-8\", \"ignore\")\n",
    "    )\n",
    "    text = text.translate(str.maketrans(\"\", \"\", string.punctuation))\n",
    "    # text = re.sub(r\"\\s+\", \" \", text).strip()\n",
    "    return text\n",
    "\n",
    "\n",
    "def emoji_to_text(text: str) -> str:\n",
    "    \"\"\"\n",
    "    convert emojis to english description words\n",
    "    \"\"\"\n",
    "    return demojize(text, language=\"en\")\n",
    "\n",
    "\n",
    "def cleaned_text(text: str) -> str:\n",
    "    \"\"\"\n",
    "    clean text by:\n",
    "    1. emoji_to_text\n",
    "    2. lower casing\n",
    "    3. noise removal\n",
    "    4. remove stopwords\n",
    "    \"\"\"\n",
    "    text = emoji_to_text(text)\n",
    "    text = lower_case(text)\n",
    "    text = noise_removal(text)\n",
    "    text = remove_stopwords(text)\n",
    "    return text\n",
    "\n",
    "\n",
    "def cleaned_text_transformer(df: pd.DataFrame) -> pd.DataFrame:\n",
    "    \"\"\"\n",
    "    Pandas ColumnTransformer\n",
    "    \"\"\"\n",
    "    df[\"text\"] = df[\"text\"].apply(cleaned_text)\n",
    "    return df\n",
    "\n",
    "\n",
    "def lemma_transformer(df: pd.DataFrame) -> pd.DataFrame:\n",
    "    \"\"\"\n",
    "    Pandas ColumnTransformer\n",
    "    \"\"\"\n",
    "    df[\"text\"] = df[\"text\"].apply(lemmatizing)\n",
    "    return df\n",
    "\n",
    "\n",
    "class custom_tfidf(BaseEstimator, TransformerMixin):\n",
    "    \"\"\"\n",
    "    For being able to use the TfidfVectorizer in the pipeline\n",
    "    https://stackoverflow.com/a/54725859\n",
    "    \"\"\"\n",
    "\n",
    "    def __init__(self, max_df=1.0, max_features=8000):\n",
    "        self.max_df = max_df\n",
    "        self.max_features = max_features\n",
    "        self.tfidf = TfidfVectorizer(\n",
    "            min_df=0, max_df=self.max_df, max_features=self.max_features\n",
    "        )\n",
    "\n",
    "    def fit(self, X, y=None):\n",
    "        joined_X = X.apply(lambda x: \" \".join(x), axis=1)\n",
    "        self.tfidf.fit(joined_X)\n",
    "        return self\n",
    "\n",
    "    def transform(self, X):\n",
    "        joined_X = X.apply(lambda x: \" \".join(x), axis=1)\n",
    "        return self.tfidf.transform(joined_X)\n",
    "\n"
   ]
  },
  {
   "cell_type": "code",
   "execution_count": 101,
   "metadata": {},
   "outputs": [],
   "source": [
    "\n",
    "pipeline_svc = Pipeline(\n",
    "    [\n",
    "        (\n",
    "            \"preprocessor\",\n",
    "            ColumnTransformer(\n",
    "                [\n",
    "                    (\n",
    "                        \"text_preprocess\",\n",
    "                        Pipeline(\n",
    "                            [\n",
    "                                (\n",
    "                                    \"text_process\",\n",
    "                                    FunctionTransformer(cleaned_text_transformer),\n",
    "                                ),\n",
    "                                (\"text_lemma\", FunctionTransformer(lemma_transformer)),\n",
    "                                (\"text_vector\", custom_tfidf()),\n",
    "                            ]\n",
    "                        ),\n",
    "                        [\"text\"],\n",
    "                    )\n",
    "                ]\n",
    "            ),\n",
    "        ),\n",
    "        (\"classifier\", SVC()),\n",
    "    ]\n",
    ")"
   ]
  },
  {
   "attachments": {},
   "cell_type": "markdown",
   "metadata": {},
   "source": [
    "### Param Grid - GridSearchCV"
   ]
  },
  {
   "cell_type": "code",
   "execution_count": 102,
   "metadata": {},
   "outputs": [
    {
     "name": "stdout",
     "output_type": "stream",
     "text": [
      "Fitting 5 folds for each of 36 candidates, totalling 180 fits\n"
     ]
    },
    {
     "data": {
      "text/html": [
       "<style>#sk-container-id-14 {color: black;background-color: white;}#sk-container-id-14 pre{padding: 0;}#sk-container-id-14 div.sk-toggleable {background-color: white;}#sk-container-id-14 label.sk-toggleable__label {cursor: pointer;display: block;width: 100%;margin-bottom: 0;padding: 0.3em;box-sizing: border-box;text-align: center;}#sk-container-id-14 label.sk-toggleable__label-arrow:before {content: \"▸\";float: left;margin-right: 0.25em;color: #696969;}#sk-container-id-14 label.sk-toggleable__label-arrow:hover:before {color: black;}#sk-container-id-14 div.sk-estimator:hover label.sk-toggleable__label-arrow:before {color: black;}#sk-container-id-14 div.sk-toggleable__content {max-height: 0;max-width: 0;overflow: hidden;text-align: left;background-color: #f0f8ff;}#sk-container-id-14 div.sk-toggleable__content pre {margin: 0.2em;color: black;border-radius: 0.25em;background-color: #f0f8ff;}#sk-container-id-14 input.sk-toggleable__control:checked~div.sk-toggleable__content {max-height: 200px;max-width: 100%;overflow: auto;}#sk-container-id-14 input.sk-toggleable__control:checked~label.sk-toggleable__label-arrow:before {content: \"▾\";}#sk-container-id-14 div.sk-estimator input.sk-toggleable__control:checked~label.sk-toggleable__label {background-color: #d4ebff;}#sk-container-id-14 div.sk-label input.sk-toggleable__control:checked~label.sk-toggleable__label {background-color: #d4ebff;}#sk-container-id-14 input.sk-hidden--visually {border: 0;clip: rect(1px 1px 1px 1px);clip: rect(1px, 1px, 1px, 1px);height: 1px;margin: -1px;overflow: hidden;padding: 0;position: absolute;width: 1px;}#sk-container-id-14 div.sk-estimator {font-family: monospace;background-color: #f0f8ff;border: 1px dotted black;border-radius: 0.25em;box-sizing: border-box;margin-bottom: 0.5em;}#sk-container-id-14 div.sk-estimator:hover {background-color: #d4ebff;}#sk-container-id-14 div.sk-parallel-item::after {content: \"\";width: 100%;border-bottom: 1px solid gray;flex-grow: 1;}#sk-container-id-14 div.sk-label:hover label.sk-toggleable__label {background-color: #d4ebff;}#sk-container-id-14 div.sk-serial::before {content: \"\";position: absolute;border-left: 1px solid gray;box-sizing: border-box;top: 0;bottom: 0;left: 50%;z-index: 0;}#sk-container-id-14 div.sk-serial {display: flex;flex-direction: column;align-items: center;background-color: white;padding-right: 0.2em;padding-left: 0.2em;position: relative;}#sk-container-id-14 div.sk-item {position: relative;z-index: 1;}#sk-container-id-14 div.sk-parallel {display: flex;align-items: stretch;justify-content: center;background-color: white;position: relative;}#sk-container-id-14 div.sk-item::before, #sk-container-id-14 div.sk-parallel-item::before {content: \"\";position: absolute;border-left: 1px solid gray;box-sizing: border-box;top: 0;bottom: 0;left: 50%;z-index: -1;}#sk-container-id-14 div.sk-parallel-item {display: flex;flex-direction: column;z-index: 1;position: relative;background-color: white;}#sk-container-id-14 div.sk-parallel-item:first-child::after {align-self: flex-end;width: 50%;}#sk-container-id-14 div.sk-parallel-item:last-child::after {align-self: flex-start;width: 50%;}#sk-container-id-14 div.sk-parallel-item:only-child::after {width: 0;}#sk-container-id-14 div.sk-dashed-wrapped {border: 1px dashed gray;margin: 0 0.4em 0.5em 0.4em;box-sizing: border-box;padding-bottom: 0.4em;background-color: white;}#sk-container-id-14 div.sk-label label {font-family: monospace;font-weight: bold;display: inline-block;line-height: 1.2em;}#sk-container-id-14 div.sk-label-container {text-align: center;}#sk-container-id-14 div.sk-container {/* jupyter's `normalize.less` sets `[hidden] { display: none; }` but bootstrap.min.css set `[hidden] { display: none !important; }` so we also need the `!important` here to be able to override the default hidden behavior on the sphinx rendered scikit-learn.org. See: https://github.com/scikit-learn/scikit-learn/issues/21755 */display: inline-block !important;position: relative;}#sk-container-id-14 div.sk-text-repr-fallback {display: none;}</style><div id=\"sk-container-id-14\" class=\"sk-top-container\"><div class=\"sk-text-repr-fallback\"><pre>Pipeline(steps=[(&#x27;preprocessor&#x27;,\n",
       "                 ColumnTransformer(transformers=[(&#x27;text_preprocess&#x27;,\n",
       "                                                  Pipeline(steps=[(&#x27;text_process&#x27;,\n",
       "                                                                   FunctionTransformer(func=&lt;function cleaned_text_transformer at 0x1669f6b60&gt;)),\n",
       "                                                                  (&#x27;text_lemma&#x27;,\n",
       "                                                                   FunctionTransformer(func=&lt;function lemma_transformer at 0x1669f60c0&gt;)),\n",
       "                                                                  (&#x27;text_vector&#x27;,\n",
       "                                                                   custom_tfidf())]),\n",
       "                                                  [&#x27;text&#x27;])])),\n",
       "                (&#x27;classifier&#x27;, SVC())])</pre><b>In a Jupyter environment, please rerun this cell to show the HTML representation or trust the notebook. <br />On GitHub, the HTML representation is unable to render, please try loading this page with nbviewer.org.</b></div><div class=\"sk-container\" hidden><div class=\"sk-item sk-dashed-wrapped\"><div class=\"sk-label-container\"><div class=\"sk-label sk-toggleable\"><input class=\"sk-toggleable__control sk-hidden--visually\" id=\"sk-estimator-id-92\" type=\"checkbox\" ><label for=\"sk-estimator-id-92\" class=\"sk-toggleable__label sk-toggleable__label-arrow\">Pipeline</label><div class=\"sk-toggleable__content\"><pre>Pipeline(steps=[(&#x27;preprocessor&#x27;,\n",
       "                 ColumnTransformer(transformers=[(&#x27;text_preprocess&#x27;,\n",
       "                                                  Pipeline(steps=[(&#x27;text_process&#x27;,\n",
       "                                                                   FunctionTransformer(func=&lt;function cleaned_text_transformer at 0x1669f6b60&gt;)),\n",
       "                                                                  (&#x27;text_lemma&#x27;,\n",
       "                                                                   FunctionTransformer(func=&lt;function lemma_transformer at 0x1669f60c0&gt;)),\n",
       "                                                                  (&#x27;text_vector&#x27;,\n",
       "                                                                   custom_tfidf())]),\n",
       "                                                  [&#x27;text&#x27;])])),\n",
       "                (&#x27;classifier&#x27;, SVC())])</pre></div></div></div><div class=\"sk-serial\"><div class=\"sk-item sk-dashed-wrapped\"><div class=\"sk-label-container\"><div class=\"sk-label sk-toggleable\"><input class=\"sk-toggleable__control sk-hidden--visually\" id=\"sk-estimator-id-93\" type=\"checkbox\" ><label for=\"sk-estimator-id-93\" class=\"sk-toggleable__label sk-toggleable__label-arrow\">preprocessor: ColumnTransformer</label><div class=\"sk-toggleable__content\"><pre>ColumnTransformer(transformers=[(&#x27;text_preprocess&#x27;,\n",
       "                                 Pipeline(steps=[(&#x27;text_process&#x27;,\n",
       "                                                  FunctionTransformer(func=&lt;function cleaned_text_transformer at 0x1669f6b60&gt;)),\n",
       "                                                 (&#x27;text_lemma&#x27;,\n",
       "                                                  FunctionTransformer(func=&lt;function lemma_transformer at 0x1669f60c0&gt;)),\n",
       "                                                 (&#x27;text_vector&#x27;,\n",
       "                                                  custom_tfidf())]),\n",
       "                                 [&#x27;text&#x27;])])</pre></div></div></div><div class=\"sk-parallel\"><div class=\"sk-parallel-item\"><div class=\"sk-item\"><div class=\"sk-label-container\"><div class=\"sk-label sk-toggleable\"><input class=\"sk-toggleable__control sk-hidden--visually\" id=\"sk-estimator-id-94\" type=\"checkbox\" ><label for=\"sk-estimator-id-94\" class=\"sk-toggleable__label sk-toggleable__label-arrow\">text_preprocess</label><div class=\"sk-toggleable__content\"><pre>[&#x27;text&#x27;]</pre></div></div></div><div class=\"sk-serial\"><div class=\"sk-item\"><div class=\"sk-serial\"><div class=\"sk-item\"><div class=\"sk-estimator sk-toggleable\"><input class=\"sk-toggleable__control sk-hidden--visually\" id=\"sk-estimator-id-95\" type=\"checkbox\" ><label for=\"sk-estimator-id-95\" class=\"sk-toggleable__label sk-toggleable__label-arrow\">FunctionTransformer</label><div class=\"sk-toggleable__content\"><pre>FunctionTransformer(func=&lt;function cleaned_text_transformer at 0x1669f6b60&gt;)</pre></div></div></div><div class=\"sk-item\"><div class=\"sk-estimator sk-toggleable\"><input class=\"sk-toggleable__control sk-hidden--visually\" id=\"sk-estimator-id-96\" type=\"checkbox\" ><label for=\"sk-estimator-id-96\" class=\"sk-toggleable__label sk-toggleable__label-arrow\">FunctionTransformer</label><div class=\"sk-toggleable__content\"><pre>FunctionTransformer(func=&lt;function lemma_transformer at 0x1669f60c0&gt;)</pre></div></div></div><div class=\"sk-item\"><div class=\"sk-estimator sk-toggleable\"><input class=\"sk-toggleable__control sk-hidden--visually\" id=\"sk-estimator-id-97\" type=\"checkbox\" ><label for=\"sk-estimator-id-97\" class=\"sk-toggleable__label sk-toggleable__label-arrow\">custom_tfidf</label><div class=\"sk-toggleable__content\"><pre>custom_tfidf()</pre></div></div></div></div></div></div></div></div></div></div><div class=\"sk-item\"><div class=\"sk-estimator sk-toggleable\"><input class=\"sk-toggleable__control sk-hidden--visually\" id=\"sk-estimator-id-98\" type=\"checkbox\" ><label for=\"sk-estimator-id-98\" class=\"sk-toggleable__label sk-toggleable__label-arrow\">SVC</label><div class=\"sk-toggleable__content\"><pre>SVC()</pre></div></div></div></div></div></div></div>"
      ],
      "text/plain": [
       "Pipeline(steps=[('preprocessor',\n",
       "                 ColumnTransformer(transformers=[('text_preprocess',\n",
       "                                                  Pipeline(steps=[('text_process',\n",
       "                                                                   FunctionTransformer(func=<function cleaned_text_transformer at 0x1669f6b60>)),\n",
       "                                                                  ('text_lemma',\n",
       "                                                                   FunctionTransformer(func=<function lemma_transformer at 0x1669f60c0>)),\n",
       "                                                                  ('text_vector',\n",
       "                                                                   custom_tfidf())]),\n",
       "                                                  ['text'])])),\n",
       "                ('classifier', SVC())])"
      ]
     },
     "execution_count": 102,
     "metadata": {},
     "output_type": "execute_result"
    }
   ],
   "source": [
    "\n",
    "param_grid = {\n",
    "    \"preprocessor__text_preprocess__text_vector__max_features\": [5000, 6000, 8000],\n",
    "    \"preprocessor__text_preprocess__text_vector__max_df\": [0.05, 0.15, 0.25, 0.35],\n",
    "    \"classifier__C\": [10, 20, 30],\n",
    "    \"classifier__gamma\": [1],\n",
    "    \"classifier__kernel\": [\"rbf\"],\n",
    "}\n",
    "\n",
    "scoring = [\"f1\", \"precision\", \"recall\", \"accuracy\", \"roc_auc\"]\n",
    "search = GridSearchCV(\n",
    "    pipeline_svc, param_grid, scoring=scoring, n_jobs=20, verbose=True, refit=\"accuracy\"\n",
    ")\n",
    "search.fit(X_train, y_train)\n",
    "pipeline_svc\n"
   ]
  },
  {
   "attachments": {},
   "cell_type": "markdown",
   "metadata": {},
   "source": [
    "### Best Hyperparameters"
   ]
  },
  {
   "cell_type": "code",
   "execution_count": 103,
   "metadata": {},
   "outputs": [
    {
     "name": "stdout",
     "output_type": "stream",
     "text": [
      "Best parameter (CV score=0.816):\n",
      "{'classifier__C': 10, 'classifier__gamma': 1, 'classifier__kernel': 'rbf', 'preprocessor__text_preprocess__text_vector__max_df': 0.25, 'preprocessor__text_preprocess__text_vector__max_features': 8000}\n",
      "Accuracy in training  0.8405026582890285\n",
      "f-score in training  0.837917485265226\n"
     ]
    }
   ],
   "source": [
    "\n",
    "print(\"Best parameter (CV score=%0.3f):\" % search.best_score_)\n",
    "print(search.best_params_)\n",
    "\n",
    "y_pred = search.predict(X_test)\n",
    "print(\"Accuracy in training \", metrics.accuracy_score(y_test, y_pred))\n",
    "print(\"f-score in training \", metrics.f1_score(y_test, y_pred))"
   ]
  },
  {
   "attachments": {},
   "cell_type": "markdown",
   "metadata": {},
   "source": [
    "### Metrics"
   ]
  },
  {
   "cell_type": "code",
   "execution_count": 104,
   "metadata": {},
   "outputs": [
    {
     "name": "stdout",
     "output_type": "stream",
     "text": [
      "              precision    recall  f1-score   support\n",
      "\n",
      "           0       0.84      0.84      0.84      2104\n",
      "           1       0.84      0.84      0.84      2034\n",
      "\n",
      "    accuracy                           0.84      4138\n",
      "   macro avg       0.84      0.84      0.84      4138\n",
      "weighted avg       0.84      0.84      0.84      4138\n",
      "\n",
      "[[1772  332]\n",
      " [ 328 1706]]\n",
      "<sklearn.metrics._plot.roc_curve.RocCurveDisplay object at 0x2ab94cf90>\n"
     ]
    },
    {
     "data": {
      "image/png": "[encoded data removed]",
      "text/plain": [
       "<Figure size 640x480 with 1 Axes>"
      ]
     },
     "metadata": {},
     "output_type": "display_data"
    }
   ],
   "source": [
    "from sklearn.metrics import RocCurveDisplay, classification_report, confusion_matrix\n",
    "\n",
    "print(classification_report(y_test, y_pred))\n",
    "print(confusion_matrix(y_test, y_pred))\n",
    "print(RocCurveDisplay.from_estimator(search, X_test, y_test))"
   ]
  },
  {
   "attachments": {},
   "cell_type": "markdown",
   "metadata": {},
   "source": [
    "### Persist model"
   ]
  },
  {
   "cell_type": "code",
   "execution_count": 105,
   "metadata": {},
   "outputs": [],
   "source": [
    "import datetime\n",
    "\n",
    "\n",
    "df_test = pd.read_csv(\"./../data/test_nolabel.csv\")\n",
    "y_pred = search.predict(df_test)\n",
    "y_test_id = df_test[\"id\"].values\n",
    "\n",
    "now = datetime.datetime.now()\n",
    "date_string = now.strftime(\"%Y%m%d_%H%M\")\n",
    "df_out = pd.DataFrame({'id': y_test_id, 'label': y_pred})\n",
    "df_out.to_csv(f\"./../data/submission_{date_string}.csv\", index=False)"
   ]
  }
 ],
 "metadata": {
  "kernelspec": {
   "display_name": "venv",
   "language": "python",
   "name": "python3"
  },
  "language_info": {
   "codemirror_mode": {
    "name": "ipython",
    "version": 3
   },
   "file_extension": ".py",
   "mimetype": "text/x-python",
   "name": "python",
   "nbconvert_exporter": "python",
   "pygments_lexer": "ipython3",
   "version": "3.11.3"
  },
  "orig_nbformat": 4
 },
 "nbformat": 4,
 "nbformat_minor": 2
}
